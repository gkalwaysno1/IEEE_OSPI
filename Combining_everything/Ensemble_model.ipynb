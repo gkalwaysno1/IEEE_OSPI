{
  "nbformat": 4,
  "nbformat_minor": 0,
  "metadata": {
    "colab": {
      "provenance": [],
      "gpuType": "T4",
      "mount_file_id": "1uwu9I2p-mT-eMEAIXwIbwNO5onm4A4F0",
      "authorship_tag": "ABX9TyO83D7Rfott3kA5MtX7wRYm",
      "include_colab_link": true
    },
    "kernelspec": {
      "name": "python3",
      "display_name": "Python 3"
    },
    "language_info": {
      "name": "python"
    },
    "accelerator": "GPU"
  },
  "cells": [
    {
      "cell_type": "markdown",
      "metadata": {
        "id": "view-in-github",
        "colab_type": "text"
      },
      "source": [
        "<a href=\"https://colab.research.google.com/github/gkalwaysno1/IEEE_OSPI/blob/main/Ensemble_model.ipynb\" target=\"_parent\"><img src=\"https://colab.research.google.com/assets/colab-badge.svg\" alt=\"Open In Colab\"/></a>"
      ]
    },
    {
      "cell_type": "code",
      "execution_count": 2,
      "metadata": {
        "id": "vuI--GIqgBMz",
        "colab": {
          "base_uri": "https://localhost:8080/"
        },
        "outputId": "e69e686b-1a1b-4b30-9645-abe6af9c08ff"
      },
      "outputs": [
        {
          "output_type": "stream",
          "name": "stdout",
          "text": [
            "Drive already mounted at /content/drive; to attempt to forcibly remount, call drive.mount(\"/content/drive\", force_remount=True).\n"
          ]
        }
      ],
      "source": [
        "from google.colab import drive\n",
        "drive.mount('/content/drive')"
      ]
    },
    {
      "cell_type": "code",
      "source": [
        "import tensorflow as tf\n",
        "from keras.preprocessing.image import ImageDataGenerator\n",
        "import os\n",
        "import cv2\n",
        "import matplotlib.pyplot as plt\n",
        "from PIL import Image\n",
        "import numpy as np\n",
        "from keras.models import load_model\n",
        "data_dir='/content/drive/MyDrive/Ensemble_dataset'\n",
        "all_labels=['Brain_tumor','Skin']\n",
        "image_list,label_list=[],[]\n",
        "bin_labl=[0,1]\n",
        "temp=-1"
      ],
      "metadata": {
        "id": "5UcOATQOhiWW"
      },
      "execution_count": 3,
      "outputs": []
    },
    {
      "cell_type": "code",
      "source": [
        "tf.data.Dataset.list_files"
      ],
      "metadata": {
        "colab": {
          "base_uri": "https://localhost:8080/"
        },
        "id": "9iGs-c7FbiRH",
        "outputId": "91f5639c-50cf-4af2-93ed-5cef72c251d4"
      },
      "execution_count": 4,
      "outputs": [
        {
          "output_type": "execute_result",
          "data": {
            "text/plain": [
              "<function tensorflow.python.data.ops.dataset_ops.DatasetV2.list_files(file_pattern, shuffle=None, seed=None, name=None)>"
            ]
          },
          "metadata": {},
          "execution_count": 4
        }
      ]
    },
    {
      "cell_type": "code",
      "source": [
        "data=tf.keras.utils.image_dataset_from_directory(data_dir)"
      ],
      "metadata": {
        "colab": {
          "base_uri": "https://localhost:8080/"
        },
        "id": "-4477NRpbrC7",
        "outputId": "75d5b759-01f9-4148-87b8-054d9e60927e"
      },
      "execution_count": 5,
      "outputs": [
        {
          "output_type": "stream",
          "name": "stdout",
          "text": [
            "Found 1751 files belonging to 2 classes.\n"
          ]
        }
      ]
    },
    {
      "cell_type": "code",
      "source": [
        "data_iterator=data.as_numpy_iterator()\n",
        "data_iterator"
      ],
      "metadata": {
        "colab": {
          "base_uri": "https://localhost:8080/"
        },
        "id": "u-KpJreob8Ai",
        "outputId": "b9afd3e5-e4b4-4e04-d506-6c96d25559a5"
      },
      "execution_count": 6,
      "outputs": [
        {
          "output_type": "execute_result",
          "data": {
            "text/plain": [
              "<tensorflow.python.data.ops.dataset_ops._NumpyIterator at 0x7cbc8a71e3b0>"
            ]
          },
          "metadata": {},
          "execution_count": 6
        }
      ]
    },
    {
      "cell_type": "code",
      "source": [
        "batch=data_iterator.next()\n",
        "batch[1]"
      ],
      "metadata": {
        "colab": {
          "base_uri": "https://localhost:8080/"
        },
        "id": "BWuk4ow9cAFU",
        "outputId": "550ded92-ed6d-4488-daee-42d176b6acf9"
      },
      "execution_count": 7,
      "outputs": [
        {
          "output_type": "execute_result",
          "data": {
            "text/plain": [
              "array([1, 0, 1, 0, 0, 1, 0, 0, 1, 1, 0, 1, 0, 0, 0, 1, 1, 0, 0, 0, 0, 0,\n",
              "       0, 0, 0, 0, 0, 1, 0, 0, 0, 1], dtype=int32)"
            ]
          },
          "metadata": {},
          "execution_count": 7
        }
      ]
    },
    {
      "cell_type": "code",
      "source": [
        "def convert_image_to_array(image_path):\n",
        "    image = Image.open(image_path)\n",
        "    image_array = np.array(image)\n",
        "    return image_array"
      ],
      "metadata": {
        "id": "3rF_7DKkcCiq"
      },
      "execution_count": 8,
      "outputs": []
    },
    {
      "cell_type": "code",
      "source": [
        "for dir in all_labels:\n",
        "  brn_img_list=os.listdir(f\"{data_dir}/{dir}/\")\n",
        "  temp+=1\n",
        "  for files in brn_img_list:\n",
        "    try:\n",
        "      img_path=f\"{data_dir}/{dir}/{files}\"\n",
        "      image_list.append(convert_image_to_array(img_path))\n",
        "      label_list.append(bin_labl[temp])\n",
        "    except:\n",
        "        print(f\"Error opening image at {img_path}\")"
      ],
      "metadata": {
        "id": "4AL9XuXZpXwc"
      },
      "execution_count": 9,
      "outputs": []
    },
    {
      "cell_type": "code",
      "source": [
        "import pandas as pd\n",
        "label_counts=pd.DataFrame(label_list).value_counts()\n",
        "label_counts.head()"
      ],
      "metadata": {
        "colab": {
          "base_uri": "https://localhost:8080/"
        },
        "id": "utDTsLpSqDR5",
        "outputId": "203b0fd7-a08d-47d9-bd39-33000a601f14"
      },
      "execution_count": 10,
      "outputs": [
        {
          "output_type": "execute_result",
          "data": {
            "text/plain": [
              "0    1012\n",
              "1     739\n",
              "dtype: int64"
            ]
          },
          "metadata": {},
          "execution_count": 10
        }
      ]
    },
    {
      "cell_type": "code",
      "source": [
        "# def resize_images_in_folder(folder_path, target_size=(256, 256)):\n",
        "#     for filename in os.listdir(folder_path):\n",
        "#         img_path = os.path.join(folder_path, filename)\n",
        "\n",
        "#         try:\n",
        "#             img = Image.open(img_path)\n",
        "\n",
        "#             # Convert image to RGB mode if it's in the 'P' mode\n",
        "#             if img.mode != 'RGB':\n",
        "#                 img = img.convert('RGB')\n",
        "\n",
        "#             img_resized = img.resize(target_size)\n",
        "#             img_resized.save(img_path)\n",
        "#         except Exception as e:\n",
        "#             print(f\"Error processing {img_path}: {e}\")\n",
        "\n",
        "# # Replace 'folder1', 'folder2', 'folder3', and 'folder4' with your actual folder paths\n",
        "# folders = ['/content/drive/MyDrive/Ensemble_dataset/Brain_tumor',\n",
        "#            '/content/drive/MyDrive/Ensemble_dataset/Skin']\n",
        "\n",
        "# for folder in folders:\n",
        "#     resize_images_in_folder(folder)"
      ],
      "metadata": {
        "id": "msx71F0zqOaA"
      },
      "execution_count": 11,
      "outputs": []
    },
    {
      "cell_type": "code",
      "source": [
        "image_list[0].shape"
      ],
      "metadata": {
        "colab": {
          "base_uri": "https://localhost:8080/"
        },
        "id": "CxFjTdTVqyVp",
        "outputId": "2314584b-6181-4e99-8b61-141a1423d834"
      },
      "execution_count": 12,
      "outputs": [
        {
          "output_type": "execute_result",
          "data": {
            "text/plain": [
              "(256, 256, 3)"
            ]
          },
          "metadata": {},
          "execution_count": 12
        }
      ]
    },
    {
      "cell_type": "code",
      "source": [
        "from sklearn.model_selection import train_test_split\n",
        "x_train,x_test,y_train,y_test=train_test_split(image_list,label_list,test_size=0.2,random_state=10)\n"
      ],
      "metadata": {
        "id": "-YC6xUAnrUn7"
      },
      "execution_count": 13,
      "outputs": []
    },
    {
      "cell_type": "code",
      "source": [
        "x_train=np.array(x_train,dtype=np.float16)/255.0\n",
        "x_test=np.array(x_test,dtype=np.float16)/255.0\n",
        "x_train=x_train.reshape(-1,256,256,3)\n",
        "x_test=x_test.reshape(-1,256,256,3)"
      ],
      "metadata": {
        "id": "5T8qxqWDrleE"
      },
      "execution_count": 14,
      "outputs": []
    },
    {
      "cell_type": "code",
      "source": [
        "from keras.utils import to_categorical\n",
        "y_train=to_categorical(y_train)\n",
        "y_test=to_categorical(y_test)"
      ],
      "metadata": {
        "id": "Z28ZGRi1rp4M"
      },
      "execution_count": 15,
      "outputs": []
    },
    {
      "cell_type": "code",
      "source": [
        "from keras.models import Sequential\n",
        "from keras.layers import Conv2D, MaxPooling2D, Dense, Flatten, Dropout\n",
        "model=Sequential()\n",
        "model.add(Conv2D(32,(3,3),padding=\"same\",input_shape=(256,256,3),activation=\"relu\"))\n",
        "model.add(MaxPooling2D(pool_size=(3,3)))\n",
        "\n",
        "model.add(Conv2D(16,(3,3),padding=\"same\",activation=\"relu\"))\n",
        "model.add(MaxPooling2D(pool_size=(2,2)))\n",
        "model.add(Flatten())\n",
        "model.add(Dense(8,activation=\"relu\"))\n",
        "model.add(Dense(4,activation=\"softmax\"))\n",
        "model.add(Dense(2, activation='sigmoid'))\n",
        "model.compile(optimizer='adam', loss='binary_crossentropy', metrics=['accuracy'])\n",
        "model.summary()"
      ],
      "metadata": {
        "colab": {
          "base_uri": "https://localhost:8080/"
        },
        "id": "dA-XoGdtrurH",
        "outputId": "d360d6a7-3338-4d90-80fb-52efee172b19"
      },
      "execution_count": 16,
      "outputs": [
        {
          "output_type": "stream",
          "name": "stdout",
          "text": [
            "Model: \"sequential\"\n",
            "_________________________________________________________________\n",
            " Layer (type)                Output Shape              Param #   \n",
            "=================================================================\n",
            " conv2d (Conv2D)             (None, 256, 256, 32)      896       \n",
            "                                                                 \n",
            " max_pooling2d (MaxPooling2D  (None, 85, 85, 32)       0         \n",
            " )                                                               \n",
            "                                                                 \n",
            " conv2d_1 (Conv2D)           (None, 85, 85, 16)        4624      \n",
            "                                                                 \n",
            " max_pooling2d_1 (MaxPooling  (None, 42, 42, 16)       0         \n",
            " 2D)                                                             \n",
            "                                                                 \n",
            " flatten (Flatten)           (None, 28224)             0         \n",
            "                                                                 \n",
            " dense (Dense)               (None, 8)                 225800    \n",
            "                                                                 \n",
            " dense_1 (Dense)             (None, 4)                 36        \n",
            "                                                                 \n",
            " dense_2 (Dense)             (None, 2)                 10        \n",
            "                                                                 \n",
            "=================================================================\n",
            "Total params: 231,366\n",
            "Trainable params: 231,366\n",
            "Non-trainable params: 0\n",
            "_________________________________________________________________\n"
          ]
        }
      ]
    },
    {
      "cell_type": "code",
      "source": [
        "x_train,x_val,y_train,y_val=train_test_split(x_train,y_train,test_size=0.2,random_state=10)\n"
      ],
      "metadata": {
        "id": "6K4TWK4Vr529"
      },
      "execution_count": 17,
      "outputs": []
    },
    {
      "cell_type": "code",
      "source": [
        "history=model.fit(x_train,y_train,batch_size=128,epochs=18,validation_data=(x_val,y_val))"
      ],
      "metadata": {
        "colab": {
          "base_uri": "https://localhost:8080/"
        },
        "id": "n9ivW3GAr9Xj",
        "outputId": "8af38a7f-3b33-497b-8cf0-320d33f80bd9"
      },
      "execution_count": 18,
      "outputs": [
        {
          "output_type": "stream",
          "name": "stdout",
          "text": [
            "Epoch 1/18\n",
            "9/9 [==============================] - 16s 407ms/step - loss: 0.6368 - accuracy: 0.7295 - val_loss: 0.5504 - val_accuracy: 0.9464\n",
            "Epoch 2/18\n",
            "9/9 [==============================] - 1s 141ms/step - loss: 0.5121 - accuracy: 0.9554 - val_loss: 0.4748 - val_accuracy: 0.9821\n",
            "Epoch 3/18\n",
            "9/9 [==============================] - 1s 143ms/step - loss: 0.4598 - accuracy: 0.9768 - val_loss: 0.4592 - val_accuracy: 0.9571\n",
            "Epoch 4/18\n",
            "9/9 [==============================] - 2s 173ms/step - loss: 0.4489 - accuracy: 0.9750 - val_loss: 0.4454 - val_accuracy: 0.9643\n",
            "Epoch 5/18\n",
            "9/9 [==============================] - 1s 169ms/step - loss: 0.4386 - accuracy: 0.9804 - val_loss: 0.4315 - val_accuracy: 0.9857\n",
            "Epoch 6/18\n",
            "9/9 [==============================] - 2s 174ms/step - loss: 0.4299 - accuracy: 0.9848 - val_loss: 0.4268 - val_accuracy: 0.9857\n",
            "Epoch 7/18\n",
            "9/9 [==============================] - 1s 143ms/step - loss: 0.4245 - accuracy: 0.9866 - val_loss: 0.4243 - val_accuracy: 0.9857\n",
            "Epoch 8/18\n",
            "9/9 [==============================] - 1s 141ms/step - loss: 0.4212 - accuracy: 0.9884 - val_loss: 0.4197 - val_accuracy: 0.9857\n",
            "Epoch 9/18\n",
            "9/9 [==============================] - 1s 156ms/step - loss: 0.4161 - accuracy: 0.9911 - val_loss: 0.4156 - val_accuracy: 0.9857\n",
            "Epoch 10/18\n",
            "9/9 [==============================] - 2s 174ms/step - loss: 0.4174 - accuracy: 0.9830 - val_loss: 0.4117 - val_accuracy: 0.9893\n",
            "Epoch 11/18\n",
            "9/9 [==============================] - 1s 165ms/step - loss: 0.4093 - accuracy: 0.9893 - val_loss: 0.4074 - val_accuracy: 0.9893\n",
            "Epoch 12/18\n",
            "9/9 [==============================] - 1s 147ms/step - loss: 0.4033 - accuracy: 0.9937 - val_loss: 0.4035 - val_accuracy: 0.9893\n",
            "Epoch 13/18\n",
            "9/9 [==============================] - 1s 156ms/step - loss: 0.4001 - accuracy: 0.9937 - val_loss: 0.4061 - val_accuracy: 0.9857\n",
            "Epoch 14/18\n",
            "9/9 [==============================] - 1s 165ms/step - loss: 0.3982 - accuracy: 0.9929 - val_loss: 0.3952 - val_accuracy: 0.9929\n",
            "Epoch 15/18\n",
            "9/9 [==============================] - 2s 181ms/step - loss: 0.3920 - accuracy: 0.9964 - val_loss: 0.3918 - val_accuracy: 0.9929\n",
            "Epoch 16/18\n",
            "9/9 [==============================] - 1s 169ms/step - loss: 0.3887 - accuracy: 0.9955 - val_loss: 0.3887 - val_accuracy: 0.9929\n",
            "Epoch 17/18\n",
            "9/9 [==============================] - 1s 140ms/step - loss: 0.3858 - accuracy: 0.9955 - val_loss: 0.3857 - val_accuracy: 0.9929\n",
            "Epoch 18/18\n",
            "9/9 [==============================] - 1s 140ms/step - loss: 0.3825 - accuracy: 0.9964 - val_loss: 0.3830 - val_accuracy: 0.9929\n"
          ]
        }
      ]
    },
    {
      "cell_type": "code",
      "source": [
        "model.save(\"/content/drive/MyDrive/Ensemble_dataset/Model/ens.h5\")"
      ],
      "metadata": {
        "id": "fxRJxNNn6-jw"
      },
      "execution_count": 19,
      "outputs": []
    }
  ]
}
